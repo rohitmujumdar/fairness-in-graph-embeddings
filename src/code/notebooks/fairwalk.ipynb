{
 "nbformat": 4,
 "nbformat_minor": 0,
 "metadata": {
  "colab": {
   "name": "fairwalk.ipynb",
   "provenance": [],
   "collapsed_sections": []
  },
  "kernelspec": {
   "name": "python3",
   "display_name": "Python 3"
  },
  "language_info": {
   "name": "python"
  }
 },
 "cells": [
  {
   "cell_type": "code",
   "metadata": {
    "id": "J5XXE4RzkIHV"
   },
   "source": [
    "import numpy as np\n",
    "import networkx as nx\n",
    "from collections import defaultdict\n",
    "import scipy.io\n",
    "from gensim.models import Word2Vec\n",
    "from gensim.models import KeyedVectors\n",
    "from scipy.sparse.linalg import svds\n",
    "from copy import deepcopy\n",
    "from collections import Counter\n",
    "from tqdm import tqdm\n",
    "import random\n",
    "from scipy.special import softmax"
   ],
   "execution_count": 1,
   "outputs": []
  },
  {
   "cell_type": "code",
   "metadata": {
    "colab": {
     "base_uri": "https://localhost:8080/"
    },
    "id": "Pk1libHxmJNb",
    "outputId": "f6d2d259-542c-49fc-a2ab-d75a1cf6fd0c"
   },
   "source": [
    "import os\n",
    "os.chdir('/content/drive/My Drive/wstm/code')\n",
    "!pwd"
   ],
   "execution_count": 2,
   "outputs": [
    {
     "output_type": "stream",
     "text": [
      "/content/drive/My Drive/wstm/code\n"
     ],
     "name": "stdout"
    }
   ]
  },
  {
   "cell_type": "code",
   "metadata": {
    "id": "mOOsEPnNhYT0"
   },
   "source": [
    "p=0.25 # Return parameter\n",
    "q=0.25 # In-out parameter\n",
    "walks=20 # Walks per node\n",
    "length=30 # Length of each walk\n",
    "d=10 # Dimension of output embeddings\n",
    "window=64 # Window size for word2vec\n",
    "workers=4 # Number of workers to assign for random walk and word2vec\n"
   ],
   "execution_count": 3,
   "outputs": []
  },
  {
   "cell_type": "code",
   "metadata": {
    "id": "hlI3gSq4m2dA"
   },
   "source": [
    "def compute_transition_probs(G, probs, p, q):\n",
    "    \"\"\"\n",
    "    Inputs:\n",
    "    G: nx.graph\n",
    "    probs: this is a dictionary of transition scores that you will fill.\n",
    "    p: the return parameter\n",
    "    q: the in-out parameter\n",
    "\n",
    "    Follow the formula above to create transition_probs.\n",
    "\n",
    "    Steps to follow:\n",
    "    1. Iterate over all nodes s in G.\n",
    "    2. In each iteration, iterate over all neighbors c of node s.\n",
    "    3. For every neighbor d of node c, calculate the probability of a random walker\n",
    "       visiting node d from node c if the random walker was on node s in the previous step.\n",
    "    4. Store the probability values in transition_probs.\n",
    "\n",
    "    Return:\n",
    "    transition_probs: This is a dictionary of transition probabilities during the random walk.\n",
    "    This is a nested dictionary.\n",
    "    transition_probs[s][c] = a list of normalized probability scores of visiting node d from node s via node c.\n",
    "\n",
    "    The format of transition_probs is given after this cell.\n",
    "    \"\"\"\n",
    "    transition_probs = deepcopy(probs)\n",
    "    for s in list(G.nodes()):\n",
    "        nbrs_s = list(G.neighbors(s))\n",
    "        for c in nbrs_s:\n",
    "            probs_list = []\n",
    "            nbrs_c = list(G.neighbors(c))\n",
    "            for d in nbrs_c:\n",
    "                if d==s:\n",
    "                    probs_list.append((d,1/p))\n",
    "                elif d in nbrs_s:\n",
    "                    probs_list.append((d,1))\n",
    "                else:\n",
    "                    probs_list.append((d,1/q))\n",
    "            probs = np.array([item[1] for item in probs_list])\n",
    "            transition_probs[str(s)][str(c)] = [(item[0],item[1]/np.sum(probs)) for item in probs_list]\n",
    "    return transition_probs"
   ],
   "execution_count": 4,
   "outputs": []
  },
  {
   "cell_type": "code",
   "metadata": {
    "id": "bcdSa6oHsF64"
   },
   "source": [
    "def generate_walks(G, transition_probs, walks_per_node, length):\n",
    "\n",
    "    walks = []\n",
    "    for s in tqdm(G.nodes(data=True)):\n",
    "        for walk_number in range(0,walks_per_node):\n",
    "            #if user select neighbour randomly\n",
    "            if str.startswith(s[0],'user'):\n",
    "                nbrs_s = list(G.neighbors(s[0]))\n",
    "                #movie will be chosen randomly\n",
    "                c = np.random.choice(nbrs_s)\n",
    "                this_walk = [s[0],c]\n",
    "                while(len(this_walk)<length):\n",
    "                    this_s = this_walk[-2]\n",
    "                    this_c = this_walk[-1]\n",
    "\n",
    "                    nbrs_c = list(G.neighbors(this_c))\n",
    "                    if len(nbrs_c) == 0:\n",
    "                        break\n",
    "                    if str.startswith(this_c,'movie'):\n",
    "                    #if c is a movie neighbours of c will be users\n",
    "                        # print(this_c,\":\",nbrs_c)\n",
    "                        men = [x for x in nbrs_c if G.nodes[x]['gender']=='M']\n",
    "                        women  = [x for x in nbrs_c if G.nodes[x]['gender']=='F']\n",
    "                        toss = random.random()\n",
    "                        if toss >= 0.5:\n",
    "                            if len(women) > 0:\n",
    "                                nbrs_c = women\n",
    "                            else:\n",
    "                                nbrs_c = men\n",
    "                        else:\n",
    "                            if len(men) > 0:\n",
    "                                nbrs_c = men\n",
    "                            else:\n",
    "                                nbrs_c = women\n",
    "                    #if c is a user neighbours of c will be movies\n",
    "                    this_c_nbr_ratings_probs = softmax(np.array([G[this_c][nbr]['weight'] for nbr in nbrs_c]))\n",
    "                    d = np.random.choice(nbrs_c, p=this_c_nbr_ratings_probs)\n",
    "                    this_walk.append(d)\n",
    "\n",
    "            else:\n",
    "                #neighbours of s are users\n",
    "                nbrs_s = list(G.neighbors(s[0]))\n",
    "                if len(nbrs_s) == 0:\n",
    "                    break\n",
    "                men = [x for x in nbrs_s if G.nodes[x]['gender']=='M']\n",
    "                women  = [x for x in nbrs_s if G.nodes[x]['gender']=='F']\n",
    "                toss = random.random()\n",
    "                if toss >= 0.5:\n",
    "                    if len(women) > 0:\n",
    "                        nbrs_s = women\n",
    "                    else:\n",
    "                        nbrs_s = men\n",
    "                else:\n",
    "                    if len(men) > 0:\n",
    "                        nbrs_s = men\n",
    "                    else:\n",
    "                        nbrs_s = women\n",
    "                this_s_nbr_ratings_probs = softmax(np.array([G[s[0]][nbr]['weight'] for nbr in nbrs_s]))\n",
    "                c = np.random.choice(nbrs_s, p=this_s_nbr_ratings_probs)\n",
    "                # c = np.random.choice(nbrs_s)\n",
    "                this_walk = [s[0],c]\n",
    "\n",
    "                while(len(this_walk)<length):\n",
    "                    this_s = this_walk[-2]\n",
    "                    this_c = this_walk[-1]\n",
    "\n",
    "                    nbrs_c = list(G.neighbors(this_c))\n",
    "                    if len(nbrs_c) == 0:\n",
    "                        break\n",
    "                    if str.startswith(this_c,'movie'):\n",
    "                    #if c is a movie neighbours of c will be users\n",
    "                        men = [x for x in nbrs_c if G.nodes[x]['gender']=='M']\n",
    "                        women  = [x for x in nbrs_c if G.nodes[x]['gender']=='F']\n",
    "                        toss = random.random()\n",
    "                        if toss >= 0.5:\n",
    "                            if len(women) > 0:\n",
    "                                nbrs_c = women\n",
    "                            else:\n",
    "                                nbrs_c = men\n",
    "                        else:\n",
    "                            if len(men) > 0:\n",
    "                                nbrs_c = men\n",
    "                            else:\n",
    "                                nbrs_c = women\n",
    "                    #if c is a user neighbours of c will be movies\n",
    "                    this_c_nbr_ratings_probs = softmax(np.array([G[this_c][nbr]['weight'] for nbr in nbrs_c]))\n",
    "                    d = np.random.choice(nbrs_c, p=this_c_nbr_ratings_probs)\n",
    "                    this_walk.append(d)\n",
    "\n",
    "            walks.append(this_walk)\n",
    "    walks = [[str(j) for j in walk] for walk in walks]\n",
    "    np.random.shuffle(walks)\n",
    "    return walks"
   ],
   "execution_count": 5,
   "outputs": []
  },
  {
   "cell_type": "code",
   "metadata": {
    "id": "8pAq34BfsLPL"
   },
   "source": [
    "def generate_embeddings(walks, dimensions, window_size, num_workers, p, q):\n",
    "    \"\"\"\n",
    "    Here we use word2vec code to generate node embeddings from the random walks.\n",
    "    Please refer to https://radimrehurek.com/gensim/models/word2vec.html for more information about word2vec.\n",
    "\n",
    "    walks: Simulated random walks\n",
    "    dimensions: Output dimension of node embeddings\n",
    "    window_size: Window size for word2vec\n",
    "    num_workers: Number of workers to assign for random walk and word2vec\n",
    "    p: Return parameter\n",
    "    q: In out parameter\n",
    "\n",
    "    Return:\n",
    "    model: the learned word2vec model\n",
    "    embeddings: embeddings of all nodes generated using the word2vec model\n",
    "    \"\"\"\n",
    "    model=None\n",
    "    embeddings=None\n",
    "    model = Word2Vec(walks, size=dimensions, window=window_size, min_count=0, sg=1, workers=num_workers,seed=0)\n",
    "    embeddings = model.wv\n",
    "\n",
    "    return model, embeddings"
   ],
   "execution_count": 6,
   "outputs": []
  },
  {
   "cell_type": "code",
   "metadata": {
    "id": "nT9FjbG2uGZm"
   },
   "source": [
    "def fairwalk(G, probs, p, q, walks, length, workers, d, window, trans_probs):\n",
    "  \"\"\"\n",
    "  Generate embeddings for node2vec using the above functions you just implemented.\n",
    "  Inputs:\n",
    "  input: Path for input\n",
    "  directed: True if you want a directed graph, False if you want a undirected graph\n",
    "  p: Return parameter\n",
    "  q: In out parameter\n",
    "  walks: Length of walks for each node in graph G\n",
    "  length: Length of each walk\n",
    "  workers: Number of workers to assign for random walk and word2vec\n",
    "  d: Output dimension of node embeddings\n",
    "  window: Window size for word2vec\n",
    "\n",
    "  Steps to follow:\n",
    "  1. Call compute_transition_probs.\n",
    "  2. Call generate_walks.\n",
    "  3. Call generate_embeddings.\n",
    "\n",
    "  Return:\n",
    "  walk: simulated walks from each node\n",
    "  model: word2vec model\n",
    "  node2vec_embeddings: embeddings generated from the model\n",
    "  \"\"\"\n",
    "\n",
    "  model=None\n",
    "  node2vec_embeddings=None\n",
    "  if trans_probs:\n",
    "    print(\"\\nBegin computing transition probabilities\")\n",
    "    transition_probs = compute_transition_probs(G, probs, p, q)\n",
    "    print(\"\\nComputed transition probabilities\")\n",
    "  else:\n",
    "    transition_probs = None\n",
    "  walk = generate_walks(G, transition_probs, walks, length)\n",
    "  print(\"\\nGenerated walks\")\n",
    "  model, node2vec_embeddings = generate_embeddings(walk, d, window, workers, p, q)\n",
    "  #######################################\n",
    "  return walk, model, node2vec_embeddings"
   ],
   "execution_count": 7,
   "outputs": []
  },
  {
   "cell_type": "code",
   "metadata": {
    "colab": {
     "base_uri": "https://localhost:8080/"
    },
    "id": "OI4n0CkwK99H",
    "outputId": "909f827c-61f2-4159-f8b0-8928347e81bd"
   },
   "source": [
    "G = nx.read_gpickle(\"../data/train_graph.gpickle\")\n",
    "probs = defaultdict(dict)\n",
    "for node in G.nodes():\n",
    "    probs[str(node)] = dict()\n",
    "walk, model, fairwalk_embeddings = fairwalk(G, probs, p, q, walks, length, workers, d, window, False)"
   ],
   "execution_count": 8,
   "outputs": [
    {
     "output_type": "stream",
     "text": [
      "100%|██████████| 2600/2600 [11:33<00:00,  3.75it/s]\n"
     ],
     "name": "stderr"
    },
    {
     "output_type": "stream",
     "text": [
      "\n",
      "Generated walks\n"
     ],
     "name": "stdout"
    }
   ]
  },
  {
   "cell_type": "code",
   "metadata": {
    "colab": {
     "base_uri": "https://localhost:8080/"
    },
    "id": "EtzQxUjvLXoH",
    "outputId": "c88c01bc-b938-4b64-b292-0594ba46778d"
   },
   "source": [
    "# Look for most similar nodes\n",
    "print(model.wv.most_similar('user1')) # Output node names are always strings\n",
    "\n",
    "# Save embeddings for later use\n",
    "model.wv.save_word2vec_format('../data/train_fairwalk_emebddings.model')\n",
    "\n",
    "# Save model for later use\n",
    "model.save('../data/train_fairwalk_model.embeddings')"
   ],
   "execution_count": 9,
   "outputs": [
    {
     "output_type": "stream",
     "text": [
      "[('user158', 0.9779378175735474), ('user468', 0.9614793062210083), ('user758', 0.9561521410942078), ('movie1216', 0.9549406170845032), ('movie1260', 0.9516651034355164), ('user387', 0.9466103315353394), ('movie473', 0.9465644359588623), ('user854', 0.9461614489555359), ('user592', 0.9460700750350952), ('movie1601', 0.9419242143630981)]\n"
     ],
     "name": "stdout"
    }
   ]
  },
  {
   "cell_type": "code",
   "metadata": {
    "id": "ZwHyN1uf58nE"
   },
   "source": [
    ""
   ],
   "execution_count": null,
   "outputs": []
  }
 ]
}