{
  "nbformat": 4,
  "nbformat_minor": 0,
  "metadata": {
    "colab": {
      "name": "fairwalk.ipynb",
      "provenance": [],
      "collapsed_sections": []
    },
    "kernelspec": {
      "name": "python3",
      "display_name": "Python 3"
    },
    "language_info": {
      "name": "python"
    }
  },
  "cells": [
    {
      "cell_type": "code",
      "metadata": {
        "id": "J5XXE4RzkIHV"
      },
      "source": [
        "import numpy as np\n",
        "import networkx as nx\n",
        "from collections import defaultdict\n",
        "import scipy.io\n",
        "from gensim.models import Word2Vec\n",
        "from gensim.models import KeyedVectors\n",
        "from scipy.sparse.linalg import svds\n",
        "from copy import deepcopy\n",
        "from collections import Counter\n",
        "from tqdm import tqdm\n",
        "import random\n",
        "from scipy.special import softmax"
      ],
      "execution_count": null,
      "outputs": []
    },
    {
      "cell_type": "code",
      "metadata": {
        "colab": {
          "base_uri": "https://localhost:8080/"
        },
        "id": "Pk1libHxmJNb",
        "outputId": "3078e168-3be3-441a-d289-ab810ec21571"
      },
      "source": [
        "import os\n",
        "os.chdir('/content/drive/My Drive/wstm/code')\n",
        "!pwd"
      ],
      "execution_count": null,
      "outputs": [
        {
          "output_type": "stream",
          "text": [
            "/content/drive/My Drive/wstm/code\n"
          ],
          "name": "stdout"
        }
      ]
    },
    {
      "cell_type": "code",
      "metadata": {
        "id": "mOOsEPnNhYT0"
      },
      "source": [
        "p=0.50 # Return parameter\n",
        "q=0.25 # In-out parameter\n",
        "walks=20 # Walks per node\n",
        "length=30 # Length of each walk\n",
        "d=64 # Dimension of output embeddings\n",
        "window=10 # Window size for word2vec\n",
        "workers=4 # Number of workers to assign for random walk and word2vec\n"
      ],
      "execution_count": null,
      "outputs": []
    },
    {
      "cell_type": "code",
      "metadata": {
        "id": "hlI3gSq4m2dA"
      },
      "source": [
        "def compute_transition_probs(G, probs, p, q):\n",
        "    \"\"\"\n",
        "    Inputs: \n",
        "    G: nx.graph\n",
        "    probs: this is a dictionary of transition scores that you will fill. \n",
        "    p: the return parameter\n",
        "    q: the in-out parameter\n",
        "    \n",
        "    Follow the formula above to create transition_probs. \n",
        "\n",
        "    Steps to follow: \n",
        "    1. Iterate over all nodes s in G.\n",
        "    2. In each iteration, iterate over all neighbors c of node s.\n",
        "    3. For every neighbor d of node c, calculate the probability of a random walker\n",
        "       visiting node d from node c if the random walker was on node s in the previous step. \n",
        "    4. Store the probability values in transition_probs. \n",
        "\n",
        "    Return: \n",
        "    transition_probs: This is a dictionary of transition probabilities during the random walk. \n",
        "    This is a nested dictionary.  \n",
        "    transition_probs[s][c] = a list of normalized probability scores of visiting node d from node s via node c. \n",
        "    \n",
        "    The format of transition_probs is given after this cell. \n",
        "    \"\"\"\n",
        "    transition_probs = deepcopy(probs)\n",
        "    for s in list(G.nodes()):\n",
        "        nbrs_s = list(G.neighbors(s))\n",
        "        for c in nbrs_s:\n",
        "            probs_list = []\n",
        "            nbrs_c = list(G.neighbors(c))\n",
        "            for d in nbrs_c:\n",
        "                if d==s:\n",
        "                    probs_list.append((d,1/p))\n",
        "                # elif d in nbrs_s:\n",
        "                #     probs_list.append((d,1))\n",
        "                else:\n",
        "                    probs_list.append((d,1/q))\n",
        "            probs = np.array([item[1] for item in probs_list])\n",
        "            # transition_probs[str(s)][str(c)] = [(item[0],item[1]/np.sum(probs)) for item in probs_list]\n",
        "            transition_probs[str(s)][str(c)] = [item[1]/np.sum(probs) for item in probs_list]\n",
        "    return transition_probs"
      ],
      "execution_count": null,
      "outputs": []
    },
    {
      "cell_type": "code",
      "metadata": {
        "id": "bcdSa6oHsF64"
      },
      "source": [
        "def metapath2vec_fairwalk(G, transition_probs, walks_per_node, length, ratings_as_weight, fairwalk_strategy_flag):\n",
        "\n",
        "    def fairwalk_equitable_selection(G,nbrs_x):\n",
        "\n",
        "        men = [x for x in nbrs_x if G.nodes[x]['gender']=='M']\n",
        "        women  = [x for x in nbrs_x if G.nodes[x]['gender']=='F']\n",
        "        toss = random.random()\n",
        "        if toss >= 0.5:\n",
        "            if len(women) > 0:\n",
        "                equitable_nbrs_x = women\n",
        "            else:\n",
        "                equitable_nbrs_x = men\n",
        "        else:\n",
        "            if len(men) > 0:\n",
        "                equitable_nbrs_x = men\n",
        "            else:\n",
        "                equitable_nbrs_x = women\n",
        "        return equitable_nbrs_x\n",
        "\n",
        "    def select_d(G,this_walk,ratings_as_weight):\n",
        "\n",
        "        this_s = this_walk[-2]\n",
        "        this_c = this_walk[-1]\n",
        "        \n",
        "        nbrs_c = list(G.neighbors(this_c))\n",
        "        if len(nbrs_c) == 0:\n",
        "            return None\n",
        "        #S was a user, C was a movie, D will be user, do fairwalk strategy and select randomly\n",
        "        if str.startswith(this_c,'movie'):\n",
        "            if fairwalk_strategy_flag:\n",
        "                nbrs_c = fairwalk_equitable_selection(G,nbrs_c)   \n",
        "            d = np.random.choice(nbrs_c)\n",
        "        #S was a movie, C was a user, D will be movie, select with weighted ratings\n",
        "        else:\n",
        "            if ratings_as_weight:\n",
        "                this_c_nbr_ratings_probs = softmax(np.array([G[this_c][nbr]['weight'] for nbr in nbrs_c]))\n",
        "                d = np.random.choice(nbrs_c, p=this_c_nbr_ratings_probs)\n",
        "            else:\n",
        "                d = np.random.choice(nbrs_c)\n",
        "        return d\n",
        "\n",
        "    walks = []\n",
        "    for s in tqdm(G.nodes(data=True)):\n",
        "        for walk_number in range(0,walks_per_node):\n",
        "            \n",
        "            #S is a user, C  will be a movie, choose with or without ratings\n",
        "            if str.startswith(s[0],'user'):\n",
        "                nbrs_s = list(G.neighbors(s[0]))\n",
        "                if ratings_as_weight:\n",
        "                    this_s_nbr_ratings_probs = softmax(np.array([G[s[0]][nbr]['weight'] for nbr in nbrs_s]))\n",
        "                    c = np.random.choice(nbrs_s, p=this_s_nbr_ratings_probs)\n",
        "                else:\n",
        "                    c = np.random.choice(nbrs_s)\n",
        "                this_walk = [s[0],c]\n",
        "                while(len(this_walk)<length):\n",
        "                    d = select_d(G,this_walk,ratings_as_weight)\n",
        "                    if d is None:\n",
        "                        break\n",
        "                    this_walk.append(d)\n",
        "\n",
        "            else:\n",
        "                #S is a movie, C will be a user, do fairwalk strategy and choose randomly \n",
        "                nbrs_s = list(G.neighbors(s[0]))\n",
        "                if len(nbrs_s) == 0:\n",
        "                    break\n",
        "                if fairwalk_strategy_flag:\n",
        "                    nbrs_s = fairwalk_equitable_selection(G,nbrs_s)\n",
        "                c = np.random.choice(nbrs_s)\n",
        "                this_walk = [s[0],c]\n",
        "                while(len(this_walk)<length):\n",
        "                    d = select_d(G,this_walk,ratings_as_weight)\n",
        "                    if d is None:\n",
        "                        break\n",
        "                    this_walk.append(d)\n",
        "\n",
        "            walks.append(this_walk)\n",
        "    walks = [[str(j) for j in walk] for walk in walks]\n",
        "    np.random.shuffle(walks)\n",
        "    return walks"
      ],
      "execution_count": null,
      "outputs": []
    },
    {
      "cell_type": "code",
      "metadata": {
        "id": "ruGDO_dSnEoZ"
      },
      "source": [
        "def metapath2vec_node2vec_fairwalk(G, transition_probs, walks_per_node, length, ratings_as_weight, fairwalk_strategy_flag):\n",
        "\n",
        "    def fairwalk_equitable_selection(G,nbrs_x):\n",
        "\n",
        "        men_indices = [i for i in range(0,len(nbrs_x)) if G.nodes[nbrs_x[i]]['gender']=='M']\n",
        "        women_indices  = [i for i in range(0,len(nbrs_x)) if G.nodes[nbrs_x[i]]['gender']=='F']\n",
        "        toss = random.random()\n",
        "        if toss >= 0.5:\n",
        "            if len(women_indices) > 0:\n",
        "                indices = women_indices\n",
        "            else:\n",
        "                indices = men_indices\n",
        "        else:\n",
        "            if len(men_indices) > 0:\n",
        "                indices = men_indices\n",
        "            else:\n",
        "                indices = women_indices\n",
        "        equitable_nbrs_x = [nbrs_x[i] for i in indices]\n",
        "        return indices,equitable_nbrs_x\n",
        "\n",
        "    def select_d(G,this_walk,ratings_as_weight,transition_probs):\n",
        "\n",
        "        this_s = this_walk[-2]\n",
        "        this_c = this_walk[-1]\n",
        "        \n",
        "        nbrs_c = list(G.neighbors(this_c))\n",
        "        if len(nbrs_c) == 0:\n",
        "            return None\n",
        "        #S was a user, C was a movie, D will be user, do fairwalk strategy and select using transition probs\n",
        "        if str.startswith(this_c,'movie'):\n",
        "            if fairwalk_strategy_flag:\n",
        "                indices,nbrs_c = fairwalk_equitable_selection(G,nbrs_c)  \n",
        "                probs = [transition_probs[str(this_s)][str(this_c)][i] for i in indices]\n",
        "            d = np.random.choice(nbrs_c, p=softmax(np.array(probs)))\n",
        "        #S was a movie, C was a user, D will be movie, select with weighted ratings\n",
        "        else:\n",
        "            if ratings_as_weight:\n",
        "                #TODO\n",
        "                array1 = transition_probs[str(this_s)][str(this_c)] \n",
        "                array2 = np.array([G[this_c][nbr]['weight'] for nbr in nbrs_c])\n",
        "                product = np.multiply(array1,array2)\n",
        "                this_c_nbr_ratings_probs = softmax(product)\n",
        "                d = np.random.choice(nbrs_c, p=this_c_nbr_ratings_probs)\n",
        "            else:\n",
        "                d = np.random.choice(nbrs_c,p=transition_probs)\n",
        "        return d\n",
        "\n",
        "    walks = []\n",
        "    for s in tqdm(G.nodes(data=True)):\n",
        "        for walk_number in range(0,walks_per_node):\n",
        "            \n",
        "            #S is a user, C  will be a movie, choose with or without ratings\n",
        "            if str.startswith(s[0],'user'):\n",
        "                nbrs_s = list(G.neighbors(s[0]))\n",
        "                if ratings_as_weight:\n",
        "                    this_s_nbr_ratings_probs = softmax(np.array([G[s[0]][nbr]['weight'] for nbr in nbrs_s]))\n",
        "                    c = np.random.choice(nbrs_s, p=this_s_nbr_ratings_probs)\n",
        "                else:\n",
        "                    c = np.random.choice(nbrs_s)\n",
        "                this_walk = [s[0],c]\n",
        "                while(len(this_walk)<length):\n",
        "                    d = select_d(G,this_walk,ratings_as_weight,transition_probs)\n",
        "                    if d is None:\n",
        "                        break\n",
        "                    this_walk.append(d)\n",
        "\n",
        "            else:\n",
        "                #S is a movie, C will be a user, do fairwalk strategy and choose randomly \n",
        "                nbrs_s = list(G.neighbors(s[0]))\n",
        "                if len(nbrs_s) == 0:\n",
        "                    break\n",
        "                if fairwalk_strategy_flag:\n",
        "                    indices,nbrs_s = fairwalk_equitable_selection(G,nbrs_s)\n",
        "                    c = np.random.choice(nbrs_s)\n",
        "                # except Exception:\n",
        "                #     print(nbrs_s)\n",
        "                this_walk = [s[0],c]\n",
        "                while(len(this_walk)<length):\n",
        "                    d = select_d(G,this_walk,ratings_as_weight,transition_probs)\n",
        "                    if d is None:\n",
        "                        break\n",
        "                    this_walk.append(d)\n",
        "\n",
        "            walks.append(this_walk)\n",
        "    walks = [[str(j) for j in walk] for walk in walks]\n",
        "    np.random.shuffle(walks)\n",
        "    return walks"
      ],
      "execution_count": null,
      "outputs": []
    },
    {
      "cell_type": "code",
      "metadata": {
        "id": "8pAq34BfsLPL"
      },
      "source": [
        "def generate_embeddings(walks, dimensions, window_size, num_workers, p, q):\n",
        "    \"\"\"\n",
        "    Here we use word2vec code to generate node embeddings from the random walks. \n",
        "    Please refer to https://radimrehurek.com/gensim/models/word2vec.html for more information about word2vec.\n",
        "    \n",
        "    walks: Simulated random walks\n",
        "    dimensions: Output dimension of node embeddings\n",
        "    window_size: Window size for word2vec\n",
        "    num_workers: Number of workers to assign for random walk and word2vec\n",
        "    p: Return parameter\n",
        "    q: In out parameter\n",
        "    \n",
        "    Return:\n",
        "    model: the learned word2vec model\n",
        "    embeddings: embeddings of all nodes generated using the word2vec model\n",
        "    \"\"\"\n",
        "    model=None\n",
        "    embeddings=None\n",
        "    model = Word2Vec(walks, size=dimensions, window=window_size, min_count=0, sg=1, workers=num_workers,seed=0)\n",
        "    embeddings = model.wv\n",
        "\n",
        "    return model, embeddings"
      ],
      "execution_count": null,
      "outputs": []
    },
    {
      "cell_type": "code",
      "metadata": {
        "id": "nT9FjbG2uGZm"
      },
      "source": [
        "def generate_model_metapath2vec_fairwalk(G, probs, p, q, walks, length, workers, d, window, trans_probs, ratings_as_weight, fairwalk_strategy_flag):\n",
        "  \"\"\"\n",
        "  Generate embeddings for node2vec using the above functions you just implemented. \n",
        "  Inputs:\n",
        "  input: Path for input\n",
        "  directed: True if you want a directed graph, False if you want a undirected graph\n",
        "  p: Return parameter\n",
        "  q: In out parameter\n",
        "  walks: Length of walks for each node in graph G\n",
        "  length: Length of each walk\n",
        "  workers: Number of workers to assign for random walk and word2vec\n",
        "  d: Output dimension of node embeddings\n",
        "  window: Window size for word2vec\n",
        "\n",
        "  Steps to follow:\n",
        "  1. Call compute_transition_probs.\n",
        "  2. Call generate_walks.\n",
        "  3. Call generate_embeddings. \n",
        "\n",
        "  Return:\n",
        "  walk: simulated walks from each node\n",
        "  model: word2vec model\n",
        "  node2vec_embeddings: embeddings generated from the model\n",
        "  \"\"\"\n",
        "\n",
        "  model=None\n",
        "  embeddings=None\n",
        "  if trans_probs:\n",
        "    print(\"\\nBegin computing transition probabilities\")\n",
        "    transition_probs = compute_transition_probs(G, probs, p, q)\n",
        "    print(\"\\nComputed transition probabilities\")\n",
        "  else:\n",
        "    transition_probs = None\n",
        "  walk = metapath2vec_fairwalk(G, transition_probs, walks, length, ratings_as_weight, fairwalk_strategy_flag)\n",
        "  print(\"\\nGenerated walks\")\n",
        "  model, embeddings = generate_embeddings(walk, d, window, workers, p, q)  \n",
        "  #######################################\n",
        "  return walk, model, embeddings"
      ],
      "execution_count": null,
      "outputs": []
    },
    {
      "cell_type": "code",
      "metadata": {
        "id": "2ZkHpX6XCksa"
      },
      "source": [
        "def generate_model_metapath2vec_node2vec_fairwalk(G, probs, p, q, walks, length, workers, d, window, trans_probs, ratings_as_weight, fairwalk_strategy_flag):\n",
        "  \"\"\"\n",
        "  Generate embeddings for node2vec using the above functions you just implemented. \n",
        "  Inputs:\n",
        "  input: Path for input\n",
        "  directed: True if you want a directed graph, False if you want a undirected graph\n",
        "  p: Return parameter\n",
        "  q: In out parameter\n",
        "  walks: Length of walks for each node in graph G\n",
        "  length: Length of each walk\n",
        "  workers: Number of workers to assign for random walk and word2vec\n",
        "  d: Output dimension of node embeddings\n",
        "  window: Window size for word2vec\n",
        "\n",
        "  Steps to follow:\n",
        "  1. Call compute_transition_probs.\n",
        "  2. Call generate_walks.\n",
        "  3. Call generate_embeddings. \n",
        "\n",
        "  Return:\n",
        "  walk: simulated walks from each node\n",
        "  model: word2vec model\n",
        "  node2vec_embeddings: embeddings generated from the model\n",
        "  \"\"\"\n",
        "\n",
        "  model=None\n",
        "  embeddings=None\n",
        "  if trans_probs:\n",
        "    print(\"\\nBegin computing transition probabilities\")\n",
        "    transition_probs = compute_transition_probs(G, probs, p, q)\n",
        "    print(\"\\nComputed transition probabilities\")\n",
        "  else:\n",
        "    transition_probs = None\n",
        "  walk = metapath2vec_node2vec_fairwalk(G, transition_probs, walks, length, ratings_as_weight, fairwalk_strategy_flag)\n",
        "  print(\"\\nGenerated walks\")\n",
        "  model, embeddings = generate_embeddings(walk, d, window, workers, p, q)  \n",
        "  #######################################\n",
        "  return walk, model, embeddings"
      ],
      "execution_count": null,
      "outputs": []
    },
    {
      "cell_type": "code",
      "metadata": {
        "id": "OI4n0CkwK99H"
      },
      "source": [
        "G = nx.read_gpickle(\"../data/train_graph.gpickle\")\n",
        "probs = defaultdict(dict)\n",
        "for node in G.nodes():\n",
        "    probs[str(node)] = dict()"
      ],
      "execution_count": null,
      "outputs": []
    },
    {
      "cell_type": "code",
      "metadata": {
        "id": "g3XpJ5QUElHT"
      },
      "source": [
        "walk, model, embeddings = generate_model_metapath2vec_node2vec_fairwalk(G, probs, p, q, walks, length, workers, d, window, True, True, True)"
      ],
      "execution_count": null,
      "outputs": []
    },
    {
      "cell_type": "code",
      "metadata": {
        "colab": {
          "base_uri": "https://localhost:8080/"
        },
        "id": "EtzQxUjvLXoH",
        "outputId": "a1617d73-4858-42d4-de85-94c48295744c"
      },
      "source": [
        "# Look for most similar nodes\n",
        "print(model.wv.most_similar('user1')) # Output node names are always strings\n",
        "\n",
        "# Save embeddings for later use\n",
        "model.wv.save_word2vec_format('../data/metapath2vec_node2vec_without_ratings_as_weight/train_metapath2vec_node2vec_without_ratings_as_weight.model')\n",
        "\n",
        "# Save model for later use\n",
        "model.save('../data/metapath2vec_node2vec_without_ratings_as_weight/train_metapath2vec_node2vec_without_ratings_as_weight.embeddings')"
      ],
      "execution_count": null,
      "outputs": [
        {
          "output_type": "stream",
          "text": [
            "[('movie104', 0.6251944303512573), ('movie247', 0.5665442943572998), ('user561', 0.5582504272460938), ('user778', 0.5413044691085815), ('user566', 0.5282551050186157), ('user453', 0.5131206512451172), ('user330', 0.5012733936309814), ('movie102', 0.5004125833511353), ('user254', 0.49272146821022034), ('user23', 0.4919901192188263)]\n"
          ],
          "name": "stdout"
        }
      ]
    },
    {
      "cell_type": "code",
      "metadata": {
        "id": "m0rkdMnayGhm"
      },
      "source": [
        ""
      ],
      "execution_count": null,
      "outputs": []
    }
  ]
}