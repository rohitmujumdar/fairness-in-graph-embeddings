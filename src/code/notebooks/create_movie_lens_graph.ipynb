{
 "cells": [
  {
   "cell_type": "code",
   "execution_count": 2,
   "metadata": {
    "executionInfo": {
     "elapsed": 1153,
     "status": "ok",
     "timestamp": 1616279316852,
     "user": {
      "displayName": "Sushroshal GT",
      "photoUrl": "",
      "userId": "13321932129378519656"
     },
     "user_tz": 240
    },
    "id": "15J8vZEy9cQI"
   },
   "outputs": [],
   "source": [
    "from sklearn.datasets import dump_svmlight_file\n",
    "import numpy as np\n",
    "import pandas as pd\n",
    "import os\n",
    "import urllib\n",
    "import zipfile\n",
    "from sklearn.model_selection import train_test_split\n",
    "import shutil\n",
    "import matplotlib.pyplot as plt\n"
   ]
  },
  {
   "cell_type": "code",
   "execution_count": 3,
   "metadata": {
    "colab": {
     "base_uri": "https://localhost:8080/"
    },
    "executionInfo": {
     "elapsed": 827,
     "status": "ok",
     "timestamp": 1616279316856,
     "user": {
      "displayName": "Sushroshal GT",
      "photoUrl": "",
      "userId": "13321932129378519656"
     },
     "user_tz": 240
    },
    "id": "_3lnZ2t3e1hW",
    "outputId": "8869d8ce-b316-4e00-b041-e20fef8c20a9"
   },
   "outputs": [
    {
     "name": "stdout",
     "output_type": "stream",
     "text": [
      "Drive already mounted at /content/drive; to attempt to forcibly remount, call drive.mount(\"/content/drive\", force_remount=True).\n"
     ]
    }
   ],
   "source": [
    "from google.colab import drive\n",
    "drive.mount('/content/drive')"
   ]
  },
  {
   "cell_type": "code",
   "execution_count": 4,
   "metadata": {
    "colab": {
     "base_uri": "https://localhost:8080/"
    },
    "executionInfo": {
     "elapsed": 298,
     "status": "ok",
     "timestamp": 1616279317676,
     "user": {
      "displayName": "Sushroshal GT",
      "photoUrl": "",
      "userId": "13321932129378519656"
     },
     "user_tz": 240
    },
    "id": "mVK948kw-DZ5",
    "outputId": "64f8f23b-21a3-45e2-9cf1-2ac7a61d2254"
   },
   "outputs": [
    {
     "name": "stdout",
     "output_type": "stream",
     "text": [
      "/content/drive/My Drive/wstm/code\n"
     ]
    }
   ],
   "source": [
    "import os\n",
    "os.chdir('/content/drive/My Drive/wstm/code')\n",
    "!pwd"
   ]
  },
  {
   "cell_type": "code",
   "execution_count": 5,
   "metadata": {
    "colab": {
     "base_uri": "https://localhost:8080/"
    },
    "executionInfo": {
     "elapsed": 458,
     "status": "ok",
     "timestamp": 1616279319785,
     "user": {
      "displayName": "Sushroshal GT",
      "photoUrl": "",
      "userId": "13321932129378519656"
     },
     "user_tz": 240
    },
    "id": "7jSO7gw_9cQQ",
    "outputId": "9af964f5-2d07-4aaa-b551-1bdb2f345e1a"
   },
   "outputs": [
    {
     "name": "stdout",
     "output_type": "stream",
     "text": [
      "Downloading ml-100k.zip\n",
      "Download completed\n"
     ]
    }
   ],
   "source": [
    "dataset = 'http://files.grouplens.org/datasets/movielens/ml-100k.zip'\n",
    "dt_name = os.path.basename(dataset)\n",
    "print('Downloading {}'.format(dt_name))\n",
    "with urllib.request.urlopen(dataset) as response, open('../data/'+dt_name, 'wb') as out_file:\n",
    "    shutil.copyfileobj(response, out_file)\n",
    "print('Download completed')"
   ]
  },
  {
   "cell_type": "code",
   "execution_count": 6,
   "metadata": {
    "executionInfo": {
     "elapsed": 7040,
     "status": "ok",
     "timestamp": 1616279328582,
     "user": {
      "displayName": "Sushroshal GT",
      "photoUrl": "",
      "userId": "13321932129378519656"
     },
     "user_tz": 240
    },
    "id": "4VXjXqc29cQT"
   },
   "outputs": [],
   "source": [
    "with zipfile.ZipFile('../data/'+dt_name, 'r') as zip_ref:\n",
    "    zip_ref.extractall('../data/')\n",
    "dt_dir_name = os.path.splitext(dt_name)[0]"
   ]
  },
  {
   "cell_type": "code",
   "execution_count": 7,
   "metadata": {
    "executionInfo": {
     "elapsed": 6764,
     "status": "ok",
     "timestamp": 1616279328914,
     "user": {
      "displayName": "Sushroshal GT",
      "photoUrl": "",
      "userId": "13321932129378519656"
     },
     "user_tz": 240
    },
    "id": "TsWD8XLl9cQV"
   },
   "outputs": [],
   "source": [
    "rdata= pd.read_csv('../data/'+dt_dir_name +'/'+ 'u.data', delimiter='\\t', names=['userId', 'movieId', 'rating', 'timestamp'])\n",
    "usrdata= pd.read_csv('../data/'+dt_dir_name +'/'+ 'u.user', delimiter='|', names=['userId', 'age' ,'gender' ,'occupation' , 'zip code'])\n",
    "usrdata['userId'] = 'user' + usrdata['userId'].astype(str)\n",
    "rdata['userId'] = 'user' + rdata['userId'].astype(str)\n",
    "rdata['movieId'] = 'movie' + rdata['movieId'].astype(str)\n"
   ]
  },
  {
   "cell_type": "code",
   "execution_count": 8,
   "metadata": {
    "colab": {
     "base_uri": "https://localhost:8080/",
     "height": 206
    },
    "executionInfo": {
     "elapsed": 6034,
     "status": "ok",
     "timestamp": 1616279328916,
     "user": {
      "displayName": "Sushroshal GT",
      "photoUrl": "",
      "userId": "13321932129378519656"
     },
     "user_tz": 240
    },
    "id": "gDwnApot9cQW",
    "outputId": "d98c0fd6-4d3c-446f-cec9-7a064d3a0196"
   },
   "outputs": [
    {
     "data": {
      "text/html": [
       "<div>\n",
       "<style scoped>\n",
       "    .dataframe tbody tr th:only-of-type {\n",
       "        vertical-align: middle;\n",
       "    }\n",
       "\n",
       "    .dataframe tbody tr th {\n",
       "        vertical-align: top;\n",
       "    }\n",
       "\n",
       "    .dataframe thead th {\n",
       "        text-align: right;\n",
       "    }\n",
       "</style>\n",
       "<table border=\"1\" class=\"dataframe\">\n",
       "  <thead>\n",
       "    <tr style=\"text-align: right;\">\n",
       "      <th></th>\n",
       "      <th>userId</th>\n",
       "      <th>movieId</th>\n",
       "      <th>rating</th>\n",
       "      <th>timestamp</th>\n",
       "    </tr>\n",
       "  </thead>\n",
       "  <tbody>\n",
       "    <tr>\n",
       "      <th>0</th>\n",
       "      <td>user196</td>\n",
       "      <td>movie242</td>\n",
       "      <td>3</td>\n",
       "      <td>881250949</td>\n",
       "    </tr>\n",
       "    <tr>\n",
       "      <th>1</th>\n",
       "      <td>user186</td>\n",
       "      <td>movie302</td>\n",
       "      <td>3</td>\n",
       "      <td>891717742</td>\n",
       "    </tr>\n",
       "    <tr>\n",
       "      <th>2</th>\n",
       "      <td>user22</td>\n",
       "      <td>movie377</td>\n",
       "      <td>1</td>\n",
       "      <td>878887116</td>\n",
       "    </tr>\n",
       "    <tr>\n",
       "      <th>3</th>\n",
       "      <td>user244</td>\n",
       "      <td>movie51</td>\n",
       "      <td>2</td>\n",
       "      <td>880606923</td>\n",
       "    </tr>\n",
       "    <tr>\n",
       "      <th>4</th>\n",
       "      <td>user166</td>\n",
       "      <td>movie346</td>\n",
       "      <td>1</td>\n",
       "      <td>886397596</td>\n",
       "    </tr>\n",
       "  </tbody>\n",
       "</table>\n",
       "</div>"
      ],
      "text/plain": [
       "    userId   movieId  rating  timestamp\n",
       "0  user196  movie242       3  881250949\n",
       "1  user186  movie302       3  891717742\n",
       "2   user22  movie377       1  878887116\n",
       "3  user244   movie51       2  880606923\n",
       "4  user166  movie346       1  886397596"
      ]
     },
     "execution_count": 8,
     "metadata": {
      "tags": []
     },
     "output_type": "execute_result"
    }
   ],
   "source": [
    "rdata.head()"
   ]
  },
  {
   "cell_type": "code",
   "execution_count": 9,
   "metadata": {
    "colab": {
     "base_uri": "https://localhost:8080/",
     "height": 206
    },
    "executionInfo": {
     "elapsed": 239,
     "status": "ok",
     "timestamp": 1616279364193,
     "user": {
      "displayName": "Sushroshal GT",
      "photoUrl": "",
      "userId": "13321932129378519656"
     },
     "user_tz": 240
    },
    "id": "wkabm2n89cQY",
    "outputId": "e9a34920-2a4d-43c8-dcd0-d2f16c7af5b7"
   },
   "outputs": [
    {
     "data": {
      "text/html": [
       "<div>\n",
       "<style scoped>\n",
       "    .dataframe tbody tr th:only-of-type {\n",
       "        vertical-align: middle;\n",
       "    }\n",
       "\n",
       "    .dataframe tbody tr th {\n",
       "        vertical-align: top;\n",
       "    }\n",
       "\n",
       "    .dataframe thead th {\n",
       "        text-align: right;\n",
       "    }\n",
       "</style>\n",
       "<table border=\"1\" class=\"dataframe\">\n",
       "  <thead>\n",
       "    <tr style=\"text-align: right;\">\n",
       "      <th></th>\n",
       "      <th>userId</th>\n",
       "      <th>age</th>\n",
       "      <th>gender</th>\n",
       "      <th>occupation</th>\n",
       "      <th>zip code</th>\n",
       "    </tr>\n",
       "  </thead>\n",
       "  <tbody>\n",
       "    <tr>\n",
       "      <th>0</th>\n",
       "      <td>user1</td>\n",
       "      <td>24</td>\n",
       "      <td>M</td>\n",
       "      <td>technician</td>\n",
       "      <td>85711</td>\n",
       "    </tr>\n",
       "    <tr>\n",
       "      <th>1</th>\n",
       "      <td>user2</td>\n",
       "      <td>53</td>\n",
       "      <td>F</td>\n",
       "      <td>other</td>\n",
       "      <td>94043</td>\n",
       "    </tr>\n",
       "    <tr>\n",
       "      <th>2</th>\n",
       "      <td>user3</td>\n",
       "      <td>23</td>\n",
       "      <td>M</td>\n",
       "      <td>writer</td>\n",
       "      <td>32067</td>\n",
       "    </tr>\n",
       "    <tr>\n",
       "      <th>3</th>\n",
       "      <td>user4</td>\n",
       "      <td>24</td>\n",
       "      <td>M</td>\n",
       "      <td>technician</td>\n",
       "      <td>43537</td>\n",
       "    </tr>\n",
       "    <tr>\n",
       "      <th>4</th>\n",
       "      <td>user5</td>\n",
       "      <td>33</td>\n",
       "      <td>F</td>\n",
       "      <td>other</td>\n",
       "      <td>15213</td>\n",
       "    </tr>\n",
       "  </tbody>\n",
       "</table>\n",
       "</div>"
      ],
      "text/plain": [
       "  userId  age gender  occupation zip code\n",
       "0  user1   24      M  technician    85711\n",
       "1  user2   53      F       other    94043\n",
       "2  user3   23      M      writer    32067\n",
       "3  user4   24      M  technician    43537\n",
       "4  user5   33      F       other    15213"
      ]
     },
     "execution_count": 9,
     "metadata": {
      "tags": []
     },
     "output_type": "execute_result"
    }
   ],
   "source": [
    "usrdata.head()"
   ]
  },
  {
   "cell_type": "code",
   "execution_count": 10,
   "metadata": {
    "colab": {
     "base_uri": "https://localhost:8080/",
     "height": 206
    },
    "executionInfo": {
     "elapsed": 204,
     "status": "ok",
     "timestamp": 1616279365713,
     "user": {
      "displayName": "Sushroshal GT",
      "photoUrl": "",
      "userId": "13321932129378519656"
     },
     "user_tz": 240
    },
    "id": "JcBjz93rAbDW",
    "outputId": "ff4626c4-39ea-47a8-bf33-f56a4696c40f"
   },
   "outputs": [
    {
     "data": {
      "text/html": [
       "<div>\n",
       "<style scoped>\n",
       "    .dataframe tbody tr th:only-of-type {\n",
       "        vertical-align: middle;\n",
       "    }\n",
       "\n",
       "    .dataframe tbody tr th {\n",
       "        vertical-align: top;\n",
       "    }\n",
       "\n",
       "    .dataframe thead th {\n",
       "        text-align: right;\n",
       "    }\n",
       "</style>\n",
       "<table border=\"1\" class=\"dataframe\">\n",
       "  <thead>\n",
       "    <tr style=\"text-align: right;\">\n",
       "      <th></th>\n",
       "      <th>userId</th>\n",
       "      <th>movieId</th>\n",
       "      <th>rating</th>\n",
       "      <th>timestamp</th>\n",
       "      <th>age</th>\n",
       "      <th>gender</th>\n",
       "      <th>occupation</th>\n",
       "      <th>zip code</th>\n",
       "    </tr>\n",
       "  </thead>\n",
       "  <tbody>\n",
       "    <tr>\n",
       "      <th>0</th>\n",
       "      <td>user196</td>\n",
       "      <td>movie242</td>\n",
       "      <td>3</td>\n",
       "      <td>881250949</td>\n",
       "      <td>49</td>\n",
       "      <td>M</td>\n",
       "      <td>writer</td>\n",
       "      <td>55105</td>\n",
       "    </tr>\n",
       "    <tr>\n",
       "      <th>1</th>\n",
       "      <td>user186</td>\n",
       "      <td>movie302</td>\n",
       "      <td>3</td>\n",
       "      <td>891717742</td>\n",
       "      <td>39</td>\n",
       "      <td>F</td>\n",
       "      <td>executive</td>\n",
       "      <td>00000</td>\n",
       "    </tr>\n",
       "    <tr>\n",
       "      <th>2</th>\n",
       "      <td>user22</td>\n",
       "      <td>movie377</td>\n",
       "      <td>1</td>\n",
       "      <td>878887116</td>\n",
       "      <td>25</td>\n",
       "      <td>M</td>\n",
       "      <td>writer</td>\n",
       "      <td>40206</td>\n",
       "    </tr>\n",
       "    <tr>\n",
       "      <th>3</th>\n",
       "      <td>user244</td>\n",
       "      <td>movie51</td>\n",
       "      <td>2</td>\n",
       "      <td>880606923</td>\n",
       "      <td>28</td>\n",
       "      <td>M</td>\n",
       "      <td>technician</td>\n",
       "      <td>80525</td>\n",
       "    </tr>\n",
       "    <tr>\n",
       "      <th>4</th>\n",
       "      <td>user166</td>\n",
       "      <td>movie346</td>\n",
       "      <td>1</td>\n",
       "      <td>886397596</td>\n",
       "      <td>47</td>\n",
       "      <td>M</td>\n",
       "      <td>educator</td>\n",
       "      <td>55113</td>\n",
       "    </tr>\n",
       "  </tbody>\n",
       "</table>\n",
       "</div>"
      ],
      "text/plain": [
       "    userId   movieId  rating  timestamp  age gender  occupation zip code\n",
       "0  user196  movie242       3  881250949   49      M      writer    55105\n",
       "1  user186  movie302       3  891717742   39      F   executive    00000\n",
       "2   user22  movie377       1  878887116   25      M      writer    40206\n",
       "3  user244   movie51       2  880606923   28      M  technician    80525\n",
       "4  user166  movie346       1  886397596   47      M    educator    55113"
      ]
     },
     "execution_count": 10,
     "metadata": {
      "tags": []
     },
     "output_type": "execute_result"
    }
   ],
   "source": [
    "all_data = rdata.join(usrdata.set_index('userId'), on='userId')\n",
    "all_data.head()"
   ]
  },
  {
   "cell_type": "code",
   "execution_count": 11,
   "metadata": {
    "executionInfo": {
     "elapsed": 212,
     "status": "ok",
     "timestamp": 1616279367604,
     "user": {
      "displayName": "Sushroshal GT",
      "photoUrl": "",
      "userId": "13321932129378519656"
     },
     "user_tz": 240
    },
    "id": "tazuxAxbEe_s"
   },
   "outputs": [],
   "source": []
  },
  {
   "cell_type": "code",
   "execution_count": 13,
   "metadata": {
    "executionInfo": {
     "elapsed": 742,
     "status": "ok",
     "timestamp": 1616279449396,
     "user": {
      "displayName": "Sushroshal GT",
      "photoUrl": "",
      "userId": "13321932129378519656"
     },
     "user_tz": 240
    },
    "id": "N8tPfUyk9cQb"
   },
   "outputs": [],
   "source": [
    "import networkx as nx\n",
    "from networkx import *\n",
    "\n",
    "#Create a graph\n",
    "# G = nx.DiGraph()\n",
    "G = nx.Graph()\n",
    "\n",
    "#Add nodes\n",
    "G.add_nodes_from(all_data.userId, bipartite=0)\n",
    "G.add_nodes_from(all_data.movieId, bipartite=1)\n",
    "usr_attrs = usrdata.set_index('userId').to_dict('index')\n",
    "nx.set_node_attributes(G, usr_attrs)\n",
    "\n",
    "#Add weights for edges\n",
    "G.add_weighted_edges_from([(uId, mId,rating) for (uId, mId, rating) in all_data[['userId', 'movieId', 'rating']].to_numpy()])"
   ]
  },
  {
   "cell_type": "code",
   "execution_count": 14,
   "metadata": {
    "colab": {
     "base_uri": "https://localhost:8080/"
    },
    "executionInfo": {
     "elapsed": 197,
     "status": "ok",
     "timestamp": 1616279453479,
     "user": {
      "displayName": "Sushroshal GT",
      "photoUrl": "",
      "userId": "13321932129378519656"
     },
     "user_tz": 240
    },
    "id": "nZhEITB39cQd",
    "outputId": "05a60906-a849-4d19-aa5e-bbb2cb3d4a52"
   },
   "outputs": [
    {
     "name": "stdout",
     "output_type": "stream",
     "text": [
      "Name: \n",
      "Type: Graph\n",
      "Number of nodes: 2625\n",
      "Number of edges: 100000\n",
      "Average degree:  76.1905\n"
     ]
    }
   ],
   "source": [
    "print(info(G))"
   ]
  },
  {
   "cell_type": "code",
   "execution_count": 15,
   "metadata": {
    "colab": {
     "base_uri": "https://localhost:8080/"
    },
    "executionInfo": {
     "elapsed": 244,
     "status": "ok",
     "timestamp": 1616279461638,
     "user": {
      "displayName": "Sushroshal GT",
      "photoUrl": "",
      "userId": "13321932129378519656"
     },
     "user_tz": 240
    },
    "id": "ylXubyh79cQe",
    "outputId": "ac282b40-401a-4c12-b993-1cdb49e92f00"
   },
   "outputs": [
    {
     "data": {
      "text/plain": [
       "(False, False, True)"
      ]
     },
     "execution_count": 15,
     "metadata": {
      "tags": []
     },
     "output_type": "execute_result"
    }
   ],
   "source": [
    "G.is_directed(), G.is_multigraph(), is_bipartite(G)"
   ]
  },
  {
   "cell_type": "code",
   "execution_count": 20,
   "metadata": {
    "executionInfo": {
     "elapsed": 449,
     "status": "ok",
     "timestamp": 1616279507254,
     "user": {
      "displayName": "Sushroshal GT",
      "photoUrl": "",
      "userId": "13321932129378519656"
     },
     "user_tz": 240
    },
    "id": "vUxbUr2LFarP"
   },
   "outputs": [],
   "source": [
    "nx.write_gpickle(G, \"../data/ml_graph.gpickle\")\n",
    "all_data.to_pickle(\"../data/ml_df.pkl\")"
   ]
  },
  {
   "cell_type": "code",
   "execution_count": 18,
   "metadata": {
    "executionInfo": {
     "elapsed": 263,
     "status": "ok",
     "timestamp": 1616279484326,
     "user": {
      "displayName": "Sushroshal GT",
      "photoUrl": "",
      "userId": "13321932129378519656"
     },
     "user_tz": 240
    },
    "id": "5kBlUT2c9cQf"
   },
   "outputs": [],
   "source": [
    "# print(\"radius: %d\" % radius(G))\n",
    "# print(\"diameter: %d\" % diameter(G))\n",
    "# print(\"eccentricity: %s\" % eccentricity(G))\n",
    "# print(\"center: %s\" % center(G))\n",
    "# print(\"periphery: %s\" % periphery(G))\n",
    "# print(\"density: %s\" % density(G))"
   ]
  },
  {
   "cell_type": "code",
   "execution_count": null,
   "metadata": {
    "id": "G2kSB1jC9cQg"
   },
   "outputs": [],
   "source": [
    "color_map = []\n",
    "for node in G.nodes:\n",
    "    if str(node).startswith('u'):\n",
    "        color_map.append('yellow')\n",
    "    else:\n",
    "        color_map.append('green')\n",
    "pos = nx.spring_layout(G)\n",
    "plt.figure(3,figsize=(12,12))\n",
    "nx.draw(G,pos,node_color=color_map)\n",
    "plt.show()"
   ]
  },
  {
   "cell_type": "code",
   "execution_count": null,
   "metadata": {
    "colab": {
     "base_uri": "https://localhost:8080/",
     "height": 319
    },
    "executionInfo": {
     "elapsed": 6003,
     "status": "ok",
     "timestamp": 1615763393492,
     "user": {
      "displayName": "Sushroshal GT",
      "photoUrl": "",
      "userId": "13321932129378519656"
     },
     "user_tz": 240
    },
    "id": "gvjnGRFz9cQi",
    "outputId": "ed5e2f58-89a3-4da5-c04d-3e73c891c020"
   },
   "outputs": [
    {
     "data": {
      "image/png": "[encoded data removed]",
      "text/plain": [
       "<Figure size 432x288 with 1 Axes>"
      ]
     },
     "metadata": {
      "tags": []
     },
     "output_type": "display_data"
    }
   ],
   "source": [
    "X, Y = bipartite.sets(G)\n",
    "pos = dict()\n",
    "pos.update( (n, (1, i)) for i, n in enumerate(X) ) # put nodes from X at x=1\n",
    "pos.update( (n, (2, i)) for i, n in enumerate(Y) ) # put nodes from Y at x=2\n",
    "nx.draw(G, pos=pos, node_color=color_map)\n",
    "plt.show()"
   ]
  },
  {
   "cell_type": "code",
   "execution_count": null,
   "metadata": {
    "id": "klfz7iHcALQi"
   },
   "outputs": [],
   "source": []
  }
 ],
 "metadata": {
  "colab": {
   "name": "create_movie_lens_graph.ipynb",
   "provenance": []
  },
  "kernelspec": {
   "display_name": "Python 3",
   "language": "python",
   "name": "python3"
  },
  "language_info": {
   "codemirror_mode": {
    "name": "ipython",
    "version": 3
   },
   "file_extension": ".py",
   "mimetype": "text/x-python",
   "name": "python",
   "nbconvert_exporter": "python",
   "pygments_lexer": "ipython3",
   "version": "3.7.10"
  }
 },
 "nbformat": 4,
 "nbformat_minor": 1
}